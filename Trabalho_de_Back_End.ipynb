{
  "nbformat": 4,
  "nbformat_minor": 0,
  "metadata": {
    "colab": {
      "provenance": [],
      "authorship_tag": "ABX9TyOleaefMSA2Msyb13ywu9Cn",
      "include_colab_link": true
    },
    "kernelspec": {
      "name": "python3",
      "display_name": "Python 3"
    },
    "language_info": {
      "name": "python"
    }
  },
  "cells": [
    {
      "cell_type": "markdown",
      "metadata": {
        "id": "view-in-github",
        "colab_type": "text"
      },
      "source": [
        "<a href=\"https://colab.research.google.com/github/BonecoClark/Trabalho-Backend/blob/main/Trabalho_de_Back_End.ipynb\" target=\"_parent\"><img src=\"https://colab.research.google.com/assets/colab-badge.svg\" alt=\"Open In Colab\"/></a>"
      ]
    },
    {
      "cell_type": "code",
      "execution_count": 2,
      "metadata": {
        "colab": {
          "base_uri": "https://localhost:8080/"
        },
        "id": "uqQFKrTP5Lez",
        "outputId": "840f2897-a373-4aee-daeb-e6d4e00c1af0"
      },
      "outputs": [
        {
          "output_type": "stream",
          "name": "stdout",
          "text": [
            "Overwriting init_db.sql\n"
          ]
        }
      ],
      "source": [
        "%%writefile init_db.sql\n",
        "CREATE TABLE IF NOT EXISTS tarefas (\n",
        "    id INTEGER PRIMARY KEY AUTOINCREMENT,\n",
        "    titulo TEXT NOT NULL,\n",
        "    descricao TEXT,\n",
        "    status TEXT NOT NULL DEFAULT 'pendente',\n",
        "    criado_em TIMESTAMP DEFAULT CURRENT_TIMESTAMP\n",
        ");"
      ]
    },
    {
      "cell_type": "code",
      "source": [
        "import sqlite3\n",
        "conn = sqlite3.connect('tarefas.db')\n",
        "conn.execute('''\n",
        "    CREATE TABLE IF NOT EXISTS tarefas (\n",
        "        id INTEGER PRIMARY KEY AUTOINCREMENT,\n",
        "        titulo TEXT NOT NULL,\n",
        "        descricao TEXT,\n",
        "        status TEXT NOT NULL DEFAULT 'pendente',\n",
        "        criado_em TIMESTAMP DEFAULT CURRENT_TIMESTAMP\n",
        "    )\n",
        "''')\n",
        "conn.close()\n",
        "print(\"✅ Banco de dados inicializado.\")"
      ],
      "metadata": {
        "colab": {
          "base_uri": "https://localhost:8080/"
        },
        "id": "FxF-TUsg5xsQ",
        "outputId": "7ff20f73-4fab-494f-e485-a55041eb0f04"
      },
      "execution_count": 3,
      "outputs": [
        {
          "output_type": "stream",
          "name": "stdout",
          "text": [
            "✅ Banco de dados inicializado.\n"
          ]
        }
      ]
    },
    {
      "cell_type": "code",
      "source": [
        "%%writefile server.py\n",
        "<COLE AQUI TODO O CÓDIGO DO server.py ACIMA>"
      ],
      "metadata": {
        "colab": {
          "base_uri": "https://localhost:8080/"
        },
        "id": "FhiaTWYS52pI",
        "outputId": "bdad53b9-cb36-4cc1-a71c-e3fee2f55135"
      },
      "execution_count": 4,
      "outputs": [
        {
          "output_type": "stream",
          "name": "stdout",
          "text": [
            "Overwriting server.py\n"
          ]
        }
      ]
    },
    {
      "cell_type": "code",
      "source": [
        "%%writefile server.py\n",
        "\n",
        "import json\n",
        "import sqlite3\n",
        "from http.server import BaseHTTPRequestHandler, HTTPServer\n",
        "from urllib.parse import urlparse, parse_qs\n",
        "import re\n",
        "from datetime import datetime\n",
        "\n",
        "DB_PATH = 'tarefas.db'\n",
        "\n",
        "def init_db():\n",
        "    conn = sqlite3.connect(DB_PATH)\n",
        "    cursor = conn.cursor()\n",
        "    cursor.execute('''\n",
        "        CREATE TABLE IF NOT EXISTS tarefas (\n",
        "            id INTEGER PRIMARY KEY AUTOINCREMENT,\n",
        "            titulo TEXT NOT NULL,\n",
        "            descricao TEXT,\n",
        "            status TEXT NOT NULL DEFAULT 'pendente',\n",
        "            criado_em TIMESTAMP DEFAULT CURRENT_TIMESTAMP\n",
        "        )\n",
        "    ''')\n",
        "    conn.commit()\n",
        "    conn.close()\n",
        "\n",
        "def get_db_connection():\n",
        "    conn = sqlite3.connect(DB_PATH)\n",
        "    conn.row_factory = sqlite3.Row  # Permite acessar colunas por nome\n",
        "    return conn\n",
        "\n",
        "class TaskHandler(BaseHTTPRequestHandler):\n",
        "    def _send_response(self, data, status=200):\n",
        "        self.send_response(status)\n",
        "        self.send_header('Content-type', 'application/json')\n",
        "        self.send_header('Access-Control-Allow-Origin', '*')  # Útil para testes\n",
        "        self.end_headers()\n",
        "        self.wfile.write(json.dumps(data, default=str).encode('utf-8'))\n",
        "\n",
        "    def do_GET(self):\n",
        "        parsed_path = urlparse(self.path)\n",
        "        path = parsed_path.path\n",
        "\n",
        "        if path == '/tasks':\n",
        "            conn = get_db_connection()\n",
        "            tarefas = conn.execute('SELECT * FROM tarefas').fetchall()\n",
        "            conn.close()\n",
        "            tarefas_list = [dict(t) for t in tarefas]\n",
        "            self._send_response(tarefas_list)\n",
        "\n",
        "        elif re.match(r'^/tasks/\\d+$', path):\n",
        "            task_id = int(path.split('/')[-1])\n",
        "            conn = get_db_connection()\n",
        "            tarefa = conn.execute('SELECT * FROM tarefas WHERE id = ?', (task_id,)).fetchone()\n",
        "            conn.close()\n",
        "            if tarefa:\n",
        "                self._send_response(dict(tarefa))\n",
        "            else:\n",
        "                self._send_response({'error': 'Tarefa não encontrada'}, 404)\n",
        "        else:\n",
        "            self._send_response({'error': 'Rota não encontrada'}, 404)\n",
        "\n",
        "    def do_POST(self):\n",
        "        if self.path == '/tasks':\n",
        "            content_length = int(self.headers['Content-Length'])\n",
        "            post_data = self.rfile.read(content_length)\n",
        "            try:\n",
        "                data = json.loads(post_data)\n",
        "                titulo = data.get('titulo')\n",
        "                descricao = data.get('descricao', '')\n",
        "                status = data.get('status', 'pendente')\n",
        "\n",
        "                if not titulo:\n",
        "                    self._send_response({'error': 'Título é obrigatório'}, 400)\n",
        "                    return\n",
        "\n",
        "                conn = get_db_connection()\n",
        "                cursor = conn.cursor()\n",
        "                cursor.execute('''\n",
        "                    INSERT INTO tarefas (titulo, descricao, status)\n",
        "                    VALUES (?, ?, ?)\n",
        "                ''', (titulo, descricao, status))\n",
        "                conn.commit()\n",
        "                new_id = cursor.lastrowid\n",
        "                conn.close()\n",
        "\n",
        "                self._send_response({'id': new_id, 'titulo': titulo, 'descricao': descricao, 'status': status, 'criado_em': datetime.now().isoformat()}, 201)\n",
        "            except json.JSONDecodeError:\n",
        "                self._send_response({'error': 'JSON inválido'}, 400)\n",
        "        else:\n",
        "            self._send_response({'error': 'Rota não permitida'}, 405)\n",
        "\n",
        "    def do_PUT(self):\n",
        "        if re.match(r'^/tasks/\\d+$', self.path):\n",
        "            task_id = int(self.path.split('/')[-1])\n",
        "            content_length = int(self.headers['Content-Length'])\n",
        "            put_data = self.rfile.read(content_length)\n",
        "            try:\n",
        "                data = json.loads(put_data)\n",
        "                titulo = data.get('titulo')\n",
        "                descricao = data.get('descricao')\n",
        "                status = data.get('status')\n",
        "\n",
        "                conn = get_db_connection()\n",
        "                # Verifica se a tarefa existe\n",
        "                tarefa = conn.execute('SELECT * FROM tarefas WHERE id = ?', (task_id,)).fetchone()\n",
        "                if not tarefa:\n",
        "                    conn.close()\n",
        "                    self._send_response({'error': 'Tarefa não encontrada'}, 404)\n",
        "                    return\n",
        "\n",
        "                # Atualiza apenas os campos fornecidos\n",
        "                updates = []\n",
        "                params = []\n",
        "                if titulo is not None:\n",
        "                    updates.append('titulo = ?')\n",
        "                    params.append(titulo)\n",
        "                if descricao is not None:\n",
        "                    updates.append('descricao = ?')\n",
        "                    params.append(descricao)\n",
        "                if status is not None:\n",
        "                    updates.append('status = ?')\n",
        "                    params.append(status)\n",
        "\n",
        "                if not updates:\n",
        "                    conn.close()\n",
        "                    self._send_response({'error': 'Nenhum campo para atualizar'}, 400)\n",
        "                    return\n",
        "\n",
        "                params.append(task_id)\n",
        "                query = f\"UPDATE tarefas SET {', '.join(updates)} WHERE id = ?\"\n",
        "                conn.execute(query, params)\n",
        "                conn.commit()\n",
        "                conn.close()\n",
        "\n",
        "                # Retorna a tarefa atualizada\n",
        "                conn = get_db_connection()\n",
        "                updated = conn.execute('SELECT * FROM tarefas WHERE id = ?', (task_id,)).fetchone()\n",
        "                conn.close()\n",
        "                self._send_response(dict(updated))\n",
        "            except json.JSONDecodeError:\n",
        "                self._send_response({'error': 'JSON inválido'}, 400)\n",
        "        else:\n",
        "            self._send_response({'error': 'Rota inválida'}, 404)\n",
        "\n",
        "    def do_DELETE(self):\n",
        "        if re.match(r'^/tasks/\\d+$', self.path):\n",
        "            task_id = int(self.path.split('/')[-1])\n",
        "            conn = get_db_connection()\n",
        "            tarefa = conn.execute('SELECT * FROM tarefas WHERE id = ?', (task_id,)).fetchone()\n",
        "            if not tarefa:\n",
        "                conn.close()\n",
        "                self._send_response({'error': 'Tarefa não encontrada'}, 404)\n",
        "                return\n",
        "\n",
        "            conn.execute('DELETE FROM tarefas WHERE id = ?', (task_id,))\n",
        "            conn.commit()\n",
        "            conn.close()\n",
        "            self._send_response({'message': 'Tarefa deletada com sucesso'}, 200)\n",
        "        else:\n",
        "            self._send_response({'error': 'Rota inválida'}, 404)\n",
        "\n",
        "    # Permitir CORS para testes (opcional)\n",
        "    def do_OPTIONS(self):\n",
        "        self.send_response(200)\n",
        "        self.send_header('Access-Control-Allow-Origin', '*')\n",
        "        self.send_header('Access-Control-Allow-Methods', 'GET, POST, PUT, DELETE, OPTIONS')\n",
        "        self.send_header('Access-Control-Allow-Headers', 'Content-Type')\n",
        "        self.end_headers()\n",
        "\n",
        "def run_server(port=8000):\n",
        "    init_db()\n",
        "    server_address = ('', port)\n",
        "    httpd = HTTPServer(server_address, TaskHandler)\n",
        "    print(f\"Servidor rodando na porta {port}...\")\n",
        "    httpd.serve_forever()\n",
        "\n",
        "if __name__ == '__main__':\n",
        "    run_server()"
      ],
      "metadata": {
        "colab": {
          "base_uri": "https://localhost:8080/"
        },
        "id": "VcNVmy8e6EVf",
        "outputId": "d59784f9-1c02-4089-f175-54435969a0c6"
      },
      "execution_count": 5,
      "outputs": [
        {
          "output_type": "stream",
          "name": "stdout",
          "text": [
            "Overwriting server.py\n"
          ]
        }
      ]
    },
    {
      "cell_type": "code",
      "source": [
        "# Célula 2: Rodar servidor em segundo plano\n",
        "import threading\n",
        "import time\n",
        "\n",
        "# Importar o módulo server.py (não executa main, só carrega as funções)\n",
        "import server\n",
        "\n",
        "# Iniciar servidor em thread\n",
        "server_thread = threading.Thread(target=server.run_server, args=(8000,), daemon=True)\n",
        "server_thread.start()\n",
        "time.sleep(1)  # Esperar o servidor iniciar\n",
        "print(\"✅ Servidor iniciado em segundo plano na porta 8000.\")"
      ],
      "metadata": {
        "colab": {
          "base_uri": "https://localhost:8080/"
        },
        "id": "mAmMiNMp6D-S",
        "outputId": "6172642a-ebd3-45c6-df32-02dea0398d34"
      },
      "execution_count": 6,
      "outputs": [
        {
          "output_type": "stream",
          "name": "stdout",
          "text": [
            "Servidor rodando na porta 8000...\n",
            "✅ Servidor iniciado em segundo plano na porta 8000.\n"
          ]
        }
      ]
    },
    {
      "cell_type": "code",
      "source": [
        "%%writefile client.py\n",
        "\n",
        "import requests\n",
        "import sys\n",
        "import json\n",
        "\n",
        "BASE_URL = 'http://localhost:8000/tasks'\n",
        "\n",
        "def criar_tarefa(titulo, descricao='', status='pendente'):\n",
        "    payload = {'titulo': titulo, 'descricao': descricao, 'status': status}\n",
        "    try:\n",
        "        r = requests.post(BASE_URL, json=payload)\n",
        "        if r.status_code == 201:\n",
        "            print(\"✅ Tarefa criada com sucesso!\")\n",
        "            print(r.json())\n",
        "        else:\n",
        "            print(f\"❌ Erro ao criar tarefa: {r.status_code} - {r.json().get('error', 'Erro desconhecido')}\")\n",
        "    except requests.exceptions.ConnectionError:\n",
        "        print(\"❌ Não foi possível conectar ao servidor. Verifique se ele está rodando.\")\n",
        "\n",
        "def listar_tarefas():\n",
        "    try:\n",
        "        r = requests.get(BASE_URL)\n",
        "        if r.status_code == 200:\n",
        "            tarefas = r.json()\n",
        "            if tarefas:\n",
        "                for t in tarefas:\n",
        "                    print(f\"[{t['id']}] {t['titulo']} - {t['status']} ({t['criado_em']})\")\n",
        "                    if t['descricao']:\n",
        "                        print(f\"    Descrição: {t['descricao']}\")\n",
        "            else:\n",
        "                print(\"📝 Nenhuma tarefa encontrada.\")\n",
        "        else:\n",
        "            print(f\"❌ Erro ao listar tarefas: {r.status_code}\")\n",
        "    except requests.exceptions.ConnectionError:\n",
        "        print(\"❌ Não foi possível conectar ao servidor.\")\n",
        "\n",
        "def ver_tarefa(task_id):\n",
        "    try:\n",
        "        r = requests.get(f\"{BASE_URL}/{task_id}\")\n",
        "        if r.status_code == 200:\n",
        "            t = r.json()\n",
        "            print(f\"📌 Tarefa {t['id']}: {t['titulo']}\")\n",
        "            print(f\"   Status: {t['status']}\")\n",
        "            print(f\"   Criada em: {t['criado_em']}\")\n",
        "            if t['descricao']:\n",
        "                print(f\"   Descrição: {t['descricao']}\")\n",
        "        elif r.status_code == 404:\n",
        "            print(\"❌ Tarefa não encontrada.\")\n",
        "        else:\n",
        "            print(f\"❌ Erro: {r.status_code}\")\n",
        "    except requests.exceptions.ConnectionError:\n",
        "        print(\"❌ Não foi possível conectar ao servidor.\")\n",
        "\n",
        "def atualizar_tarefa(task_id, status=None, titulo=None, descricao=None):\n",
        "    payload = {}\n",
        "    if status is not None:\n",
        "        payload['status'] = status\n",
        "    if titulo is not None:\n",
        "        payload['titulo'] = titulo\n",
        "    if descricao is not None:\n",
        "        payload['descricao'] = descricao\n",
        "\n",
        "    if not payload:\n",
        "        print(\"⚠️ Nada para atualizar.\")\n",
        "        return\n",
        "\n",
        "    try:\n",
        "        r = requests.put(f\"{BASE_URL}/{task_id}\", json=payload)\n",
        "        if r.status_code == 200:\n",
        "            print(\"✅ Tarefa atualizada com sucesso!\")\n",
        "            print(r.json())\n",
        "        elif r.status_code == 404:\n",
        "            print(\"❌ Tarefa não encontrada.\")\n",
        "        else:\n",
        "            print(f\"❌ Erro ao atualizar: {r.status_code} - {r.json().get('error', '')}\")\n",
        "    except requests.exceptions.ConnectionError:\n",
        "        print(\"❌ Não foi possível conectar ao servidor.\")\n",
        "\n",
        "def deletar_tarefa(task_id):\n",
        "    try:\n",
        "        r = requests.delete(f\"{BASE_URL}/{task_id}\")\n",
        "        if r.status_code == 200:\n",
        "            print(\"🗑️ Tarefa deletada com sucesso!\")\n",
        "        elif r.status_code == 404:\n",
        "            print(\"❌ Tarefa não encontrada.\")\n",
        "        else:\n",
        "            print(f\"❌ Erro ao deletar: {r.status_code}\")\n",
        "    except requests.exceptions.ConnectionError:\n",
        "        print(\"❌ Não foi possível conectar ao servidor.\")\n",
        "\n",
        "def main():\n",
        "    if len(sys.argv) < 2:\n",
        "        print(\"Uso: python client.py <comando> [argumentos]\")\n",
        "        print(\"Comandos:\")\n",
        "        print(\"  criar <titulo> [descricao] [status]\")\n",
        "        print(\"  listar\")\n",
        "        print(\"  ver <id>\")\n",
        "        print(\"  atualizar <id> [--status <status>] [--titulo <titulo>] [--descricao <descricao>]\")\n",
        "        print(\"  deletar <id>\")\n",
        "        return\n",
        "\n",
        "    comando = sys.argv[1]\n",
        "\n",
        "    if comando == 'criar':\n",
        "        if len(sys.argv) < 3:\n",
        "            print(\"Erro: título é obrigatório.\")\n",
        "            return\n",
        "        titulo = sys.argv[2]\n",
        "        descricao = sys.argv[3] if len(sys.argv) > 3 else ''\n",
        "        status = sys.argv[4] if len(sys.argv) > 4 else 'pendente'\n",
        "        criar_tarefa(titulo, descricao, status)\n",
        "\n",
        "    elif comando == 'listar':\n",
        "        listar_tarefas()\n",
        "\n",
        "    elif comando == 'ver':\n",
        "        if len(sys.argv) < 3:\n",
        "            print(\"Erro: ID da tarefa é obrigatório.\")\n",
        "            return\n",
        "        try:\n",
        "            task_id = int(sys.argv[2])\n",
        "            ver_tarefa(task_id)\n",
        "        except ValueError:\n",
        "            print(\"Erro: ID deve ser um número inteiro.\")\n",
        "\n",
        "    elif comando == 'atualizar':\n",
        "        if len(sys.argv) < 3:\n",
        "            print(\"Erro: ID da tarefa é obrigatório.\")\n",
        "            return\n",
        "        try:\n",
        "            task_id = int(sys.argv[2])\n",
        "        except ValueError:\n",
        "            print(\"Erro: ID deve ser um número inteiro.\")\n",
        "            return\n",
        "\n",
        "        # Parser simples de argumentos nomeados\n",
        "        args = sys.argv[3:]\n",
        "        kwargs = {}\n",
        "        i = 0\n",
        "        while i < len(args):\n",
        "            if args[i] == '--status' and i + 1 < len(args):\n",
        "                kwargs['status'] = args[i+1]\n",
        "                i += 2\n",
        "            elif args[i] == '--titulo' and i + 1 < len(args):\n",
        "                kwargs['titulo'] = args[i+1]\n",
        "                i += 2\n",
        "            elif args[i] == '--descricao' and i + 1 < len(args):\n",
        "                kwargs['descricao'] = args[i+1]\n",
        "                i += 2\n",
        "            else:\n",
        "                print(f\"⚠️ Argumento desconhecido ignorado: {args[i]}\")\n",
        "                i += 1\n",
        "\n",
        "        if not kwargs:\n",
        "            print(\"⚠️ Nenhum campo válido para atualizar.\")\n",
        "            return\n",
        "\n",
        "        atualizar_tarefa(task_id, **kwargs)\n",
        "\n",
        "    elif comando == 'deletar':\n",
        "        if len(sys.argv) < 3:\n",
        "            print(\"Erro: ID da tarefa é obrigatório.\")\n",
        "            return\n",
        "        try:\n",
        "            task_id = int(sys.argv[2])\n",
        "            deletar_tarefa(task_id)\n",
        "        except ValueError:\n",
        "            print(\"Erro: ID deve ser um número inteiro.\")\n",
        "    else:\n",
        "        print(f\"Comando desconhecido: {comando}\")\n",
        "\n",
        "if __name__ == '__main__':\n",
        "    main()"
      ],
      "metadata": {
        "colab": {
          "base_uri": "https://localhost:8080/"
        },
        "id": "vYH6Bx1F6UVV",
        "outputId": "07af4501-c391-4e99-a235-ce68bc7ddde4"
      },
      "execution_count": 7,
      "outputs": [
        {
          "output_type": "stream",
          "name": "stdout",
          "text": [
            "Overwriting client.py\n"
          ]
        }
      ]
    },
    {
      "cell_type": "code",
      "source": [
        "!pip install requests -q"
      ],
      "metadata": {
        "id": "tOfIUyVd6aTU"
      },
      "execution_count": 8,
      "outputs": []
    },
    {
      "cell_type": "code",
      "source": [
        "!python client.py criar \"Clark\" \"Emily\" pendente\n",
        "!python client.py listar\n",
        "!python client.py ver 1\n",
        "!python client.py atualizar 1 --status completo\n",
        "!python client.py deletar 1"
      ],
      "metadata": {
        "colab": {
          "base_uri": "https://localhost:8080/"
        },
        "id": "fIJu4-4-6bNw",
        "outputId": "f319ea5f-60b1-429a-badb-13719994cd0e"
      },
      "execution_count": 9,
      "outputs": [
        {
          "output_type": "stream",
          "name": "stdout",
          "text": [
            "✅ Tarefa criada com sucesso!\n",
            "{'id': 8, 'titulo': 'Clark', 'descricao': 'Emily', 'status': 'pendente', 'criado_em': '2025-10-01T14:00:21.475611'}\n"
          ]
        },
        {
          "output_type": "stream",
          "name": "stderr",
          "text": [
            "127.0.0.1 - - [01/Oct/2025 14:00:21] \"POST /tasks HTTP/1.1\" 201 -\n"
          ]
        },
        {
          "output_type": "stream",
          "name": "stdout",
          "text": [
            "[2] emily - pendente (2025-10-01 13:40:09)\n",
            "    Descrição: cliente\n",
            "[3] Clark - pendente (2025-10-01 13:46:19)\n",
            "    Descrição: Emily\n",
            "[4] Clark - pendente (2025-10-01 13:48:34)\n",
            "    Descrição: Emily\n",
            "[5] Clark - pendente (2025-10-01 13:53:49)\n",
            "    Descrição: Emily\n",
            "[6] Clark - pendente (2025-10-01 13:55:19)\n",
            "    Descrição: Emily\n",
            "[7] Clark - pendente (2025-10-01 13:55:24)\n",
            "    Descrição: Emily\n",
            "[8] Clark - pendente (2025-10-01 14:00:21)\n",
            "    Descrição: Emily\n"
          ]
        },
        {
          "output_type": "stream",
          "name": "stderr",
          "text": [
            "127.0.0.1 - - [01/Oct/2025 14:00:21] \"GET /tasks HTTP/1.1\" 200 -\n"
          ]
        },
        {
          "output_type": "stream",
          "name": "stdout",
          "text": [
            "❌ Tarefa não encontrada.\n"
          ]
        },
        {
          "output_type": "stream",
          "name": "stderr",
          "text": [
            "127.0.0.1 - - [01/Oct/2025 14:00:22] \"GET /tasks/1 HTTP/1.1\" 404 -\n"
          ]
        },
        {
          "output_type": "stream",
          "name": "stdout",
          "text": [
            "❌ Tarefa não encontrada.\n"
          ]
        },
        {
          "output_type": "stream",
          "name": "stderr",
          "text": [
            "127.0.0.1 - - [01/Oct/2025 14:00:22] \"PUT /tasks/1 HTTP/1.1\" 404 -\n"
          ]
        },
        {
          "output_type": "stream",
          "name": "stdout",
          "text": [
            "❌ Tarefa não encontrada.\n"
          ]
        },
        {
          "output_type": "stream",
          "name": "stderr",
          "text": [
            "127.0.0.1 - - [01/Oct/2025 14:00:22] \"DELETE /tasks/1 HTTP/1.1\" 404 -\n"
          ]
        }
      ]
    },
    {
      "cell_type": "code",
      "source": [
        "!ls -la"
      ],
      "metadata": {
        "colab": {
          "base_uri": "https://localhost:8080/"
        },
        "id": "Undon7z16sGg",
        "outputId": "8d39b533-5c6c-4494-ceab-0ef81453d43a"
      },
      "execution_count": 9,
      "outputs": [
        {
          "output_type": "stream",
          "name": "stdout",
          "text": [
            "total 52\n",
            "drwxr-xr-x 1 root root  4096 Oct  1 13:48 .\n",
            "drwxr-xr-x 1 root root  4096 Oct  1 13:08 ..\n",
            "-rw-r--r-- 1 root root  5879 Oct  1 13:48 client.py\n",
            "drwxr-xr-x 4 root root  4096 Sep 29 13:36 .config\n",
            "-rw-r--r-- 1 root root   223 Oct  1 13:48 init_db.sql\n",
            "drwxr-xr-x 2 root root  4096 Oct  1 13:48 __pycache__\n",
            "drwxr-xr-x 1 root root  4096 Sep 29 13:37 sample_data\n",
            "-rw-r--r-- 1 root root  6760 Oct  1 13:48 server.py\n",
            "-rw-r--r-- 1 root root 12288 Oct  1 13:48 tarefas.db\n"
          ]
        }
      ]
    },
    {
      "cell_type": "code",
      "source": [
        "!kill -9 $(lsof -t -i:8000) 2>/dev/null || echo \"Nenhum processo na porta 8000\""
      ],
      "metadata": {
        "colab": {
          "base_uri": "https://localhost:8080/"
        },
        "id": "qVJ-ExVyBEf6",
        "outputId": "22fde000-96d8-4f1d-cdd2-dfb25ce8a231"
      },
      "execution_count": 1,
      "outputs": [
        {
          "output_type": "stream",
          "name": "stdout",
          "text": [
            "Nenhum processo na porta 8000\n"
          ]
        }
      ]
    },
    {
      "cell_type": "code",
      "source": [],
      "metadata": {
        "id": "Bcnu7H9jCnx8"
      },
      "execution_count": null,
      "outputs": []
    }
  ]
}